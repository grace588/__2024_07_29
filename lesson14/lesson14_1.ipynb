{
 "cells": [
  {
   "cell_type": "code",
   "execution_count": 1,
   "metadata": {},
   "outputs": [
    {
     "data": {
      "text/plain": [
       "(5, 7)"
      ]
     },
     "execution_count": 1,
     "metadata": {},
     "output_type": "execute_result"
    }
   ],
   "source": [
    "(5,7)"
   ]
  },
  {
   "cell_type": "code",
   "execution_count": 2,
   "metadata": {},
   "outputs": [
    {
     "data": {
      "text/plain": [
       "(5, 7)"
      ]
     },
     "execution_count": 2,
     "metadata": {},
     "output_type": "execute_result"
    }
   ],
   "source": [
    "5,7"
   ]
  },
  {
   "cell_type": "code",
   "execution_count": 3,
   "metadata": {},
   "outputs": [
    {
     "data": {
      "text/plain": [
       "(5,)"
      ]
     },
     "execution_count": 3,
     "metadata": {},
     "output_type": "execute_result"
    }
   ],
   "source": [
    "(5,)"
   ]
  },
  {
   "cell_type": "code",
   "execution_count": 4,
   "metadata": {},
   "outputs": [
    {
     "data": {
      "text/plain": [
       "[1, 3, 5, 7, 9, 3, 5, 6, 7, 9]"
      ]
     },
     "execution_count": 4,
     "metadata": {},
     "output_type": "execute_result"
    }
   ],
   "source": [
    "list_a=[1,3,5,7,9]\n",
    "list_b=[3,5,6,7,9]\n",
    "list_a + list_b"
   ]
  },
  {
   "cell_type": "code",
   "execution_count": 5,
   "metadata": {},
   "outputs": [
    {
     "data": {
      "text/plain": [
       "array([ 4,  8, 11, 14, 18])"
      ]
     },
     "execution_count": 5,
     "metadata": {},
     "output_type": "execute_result"
    }
   ],
   "source": [
    "import numpy as np\n",
    "array_a=np.array([1,3,5,7,9])\n",
    "array_b=np.array([3,5,6,7,9])\n",
    "type(array_a)\n",
    "array_a + array_b"
   ]
  },
  {
   "cell_type": "code",
   "execution_count": 6,
   "metadata": {},
   "outputs": [
    {
     "data": {
      "text/plain": [
       "(2, (2, 3), 6, dtype('int64'))"
      ]
     },
     "execution_count": 6,
     "metadata": {},
     "output_type": "execute_result"
    }
   ],
   "source": [
    "import numpy as np\n",
    "\n",
    "l = [[1,2,3],[2,3,4]]\n",
    "array = np.array(l)\n",
    "array.ndim,array.shape,array.size,array.dtype\n"
   ]
  },
  {
   "cell_type": "code",
   "execution_count": 7,
   "metadata": {},
   "outputs": [
    {
     "data": {
      "text/plain": [
       "array([[0.64270395, 0.83501504, 0.19791311, 0.09073717, 0.29358316],\n",
       "       [0.97889398, 0.59294489, 0.38688277, 0.62805525, 0.35823575],\n",
       "       [0.10270612, 0.09700661, 0.91206212, 0.98028276, 0.15135383],\n",
       "       [0.93928664, 0.37712767, 0.96180703, 0.78286122, 0.56049424],\n",
       "       [0.77446151, 0.16592736, 0.15934013, 0.16884747, 0.2858122 ],\n",
       "       [0.69310308, 0.55111284, 0.43803672, 0.5354342 , 0.75889019],\n",
       "       [0.39333929, 0.97679463, 0.05884823, 0.49098537, 0.13702111],\n",
       "       [0.53035819, 0.24862497, 0.48950491, 0.49521178, 0.98358901],\n",
       "       [0.05426695, 0.87504306, 0.27790547, 0.70082688, 0.32406319],\n",
       "       [0.94825344, 0.88913399, 0.82320018, 0.7684423 , 0.83432244]])"
      ]
     },
     "execution_count": 7,
     "metadata": {},
     "output_type": "execute_result"
    }
   ],
   "source": [
    "import numpy as np\n",
    "np.random.rand(10,5)\n"
   ]
  },
  {
   "cell_type": "code",
   "execution_count": 10,
   "metadata": {},
   "outputs": [
    {
     "data": {
      "text/plain": [
       "array([[ 68,  66,  69,  73,  81],\n",
       "       [ 57,  91,  76,  89,  81],\n",
       "       [ 57,  70,  51,  79,  92],\n",
       "       [ 86,  53,  62,  93,  84],\n",
       "       [ 76,  70,  72,  81,  59],\n",
       "       [ 66,  86,  93,  97,  78],\n",
       "       [ 67,  71,  95,  73,  77],\n",
       "       [ 86,  84,  93,  63,  88],\n",
       "       [ 68,  76,  87,  72,  73],\n",
       "       [ 54,  74, 100,  70,  53],\n",
       "       [ 61,  92,  73,  94,  92],\n",
       "       [ 88,  51,  55,  57,  92],\n",
       "       [ 97,  58,  69,  66,  69],\n",
       "       [ 77,  52,  53,  91,  55],\n",
       "       [ 66, 100,  95,  87,  59],\n",
       "       [ 98,  65,  72, 100,  62],\n",
       "       [ 79,  84,  70,  75,  60],\n",
       "       [ 52,  66,  61,  91,  96],\n",
       "       [ 59,  54,  87,  71,  59],\n",
       "       [ 95,  56, 100,  96,  83],\n",
       "       [ 90,  80,  92,  76,  56],\n",
       "       [ 92,  58,  57,  84,  78],\n",
       "       [ 65,  84,  93,  68,  66],\n",
       "       [ 81,  59,  50,  51, 100],\n",
       "       [ 82,  80,  56,  69,  56],\n",
       "       [ 70,  80,  51,  61,  78],\n",
       "       [ 86,  71,  85,  95,  81],\n",
       "       [ 78,  66,  64,  53,  74],\n",
       "       [ 76,  93,  71,  76,  66],\n",
       "       [ 88,  64,  94,  66,  89],\n",
       "       [ 82,  98,  73,  98,  94],\n",
       "       [ 65,  61,  77,  68,  80],\n",
       "       [ 91,  79,  78,  54,  96],\n",
       "       [ 52,  88,  74,  71,  91],\n",
       "       [ 59,  74,  73,  53,  90],\n",
       "       [ 70, 100,  84,  85,  96],\n",
       "       [ 79,  62,  87,  76,  70],\n",
       "       [ 64,  70,  63,  55,  68],\n",
       "       [ 54,  53,  78,  67,  97],\n",
       "       [ 79,  65,  77,  83,  73],\n",
       "       [ 74,  76,  51,  95,  85],\n",
       "       [ 64,  98,  83,  67,  57],\n",
       "       [ 50,  78,  64,  80,  71],\n",
       "       [ 87,  50,  67,  99,  90],\n",
       "       [ 55,  97,  66,  71,  55],\n",
       "       [ 95,  76,  69,  53,  87],\n",
       "       [ 75,  74,  84,  91,  91],\n",
       "       [ 75,  82,  75,  89,  61],\n",
       "       [ 79,  55,  70,  72,  73],\n",
       "       [ 82,  97,  94,  89,  88]])"
      ]
     },
     "execution_count": 10,
     "metadata": {},
     "output_type": "execute_result"
    }
   ],
   "source": [
    "#50個學生,每個學生有5個分數(50,5)\n",
    "scores = np.random.randint(50,101,size=(50,5))\n",
    "scores"
   ]
  },
  {
   "cell_type": "code",
   "execution_count": 11,
   "metadata": {},
   "outputs": [
    {
     "data": {
      "text/plain": [
       "array([[95, 76, 69, 53, 87],\n",
       "       [75, 74, 84, 91, 91],\n",
       "       [75, 82, 75, 89, 61],\n",
       "       [79, 55, 70, 72, 73],\n",
       "       [82, 97, 94, 89, 88]])"
      ]
     },
     "execution_count": 11,
     "metadata": {},
     "output_type": "execute_result"
    }
   ],
   "source": [
    "#第一個學生\n",
    "scores[0,:]\n",
    "#前五個學生\n",
    "scores[:5,:]\n",
    "#最後五個學生\n",
    "scores[-5:,:]"
   ]
  },
  {
   "cell_type": "code",
   "execution_count": 12,
   "metadata": {},
   "outputs": [
    {
     "data": {
      "text/plain": [
       "array([68, 57, 57, 86, 76, 66, 67, 86, 68, 54, 61, 88, 97, 77, 66, 98, 79,\n",
       "       52, 59, 95, 90, 92, 65, 81, 82, 70, 86, 78, 76, 88, 82, 65, 91, 52,\n",
       "       59, 70, 79, 64, 54, 79, 74, 64, 50, 87, 55, 95, 75, 75, 79, 82])"
      ]
     },
     "execution_count": 12,
     "metadata": {},
     "output_type": "execute_result"
    }
   ],
   "source": [
    "#全班第一科的分數\n",
    "scores[:,0]\n"
   ]
  },
  {
   "cell_type": "code",
   "execution_count": 13,
   "metadata": {},
   "outputs": [
    {
     "data": {
      "text/plain": [
       "array([ 66,  91,  70,  53,  70,  86,  71,  84,  76,  74,  92,  51,  58,\n",
       "        52, 100,  65,  84,  66,  54,  56,  80,  58,  84,  59,  80,  80,\n",
       "        71,  66,  93,  64,  98,  61,  79,  88,  74, 100,  62,  70,  53,\n",
       "        65,  76,  98,  78,  50,  97,  76,  74,  82,  55,  97])"
      ]
     },
     "execution_count": 13,
     "metadata": {},
     "output_type": "execute_result"
    }
   ],
   "source": [
    "#全班第二科的分數\n",
    "scores[:,1]\n"
   ]
  },
  {
   "cell_type": "code",
   "execution_count": 16,
   "metadata": {},
   "outputs": [
    {
     "data": {
      "text/plain": [
       "array([357, 394, 349, 378, 358, 420, 383, 414, 376, 351, 412, 343, 359,\n",
       "       328, 407, 397, 368, 366, 330, 430, 394, 369, 376, 341, 343, 340,\n",
       "       418, 335, 382, 401, 445, 351, 398, 376, 349, 435, 374, 320, 349,\n",
       "       377, 381, 369, 343, 393, 344, 380, 415, 382, 349, 450])"
      ]
     },
     "execution_count": 16,
     "metadata": {},
     "output_type": "execute_result"
    }
   ],
   "source": [
    "#每位學生的總分\n",
    "total = scores[:,0] + scores[:,1] + scores[:,2] + scores[:,3] + scores[:,4]\n",
    "total"
   ]
  },
  {
   "cell_type": "code",
   "execution_count": 17,
   "metadata": {},
   "outputs": [
    {
     "data": {
      "text/plain": [
       "array([357, 394, 349, 378, 358, 420, 383, 414, 376, 351, 412, 343, 359,\n",
       "       328, 407, 397, 368, 366, 330, 430, 394, 369, 376, 341, 343, 340,\n",
       "       418, 335, 382, 401, 445, 351, 398, 376, 349, 435, 374, 320, 349,\n",
       "       377, 381, 369, 343, 393, 344, 380, 415, 382, 349, 450])"
      ]
     },
     "execution_count": 17,
     "metadata": {},
     "output_type": "execute_result"
    }
   ],
   "source": [
    "#使用統計的方法\n",
    "#每個學生總分\n",
    "np.sum(scores,axis=1)"
   ]
  },
  {
   "cell_type": "code",
   "execution_count": 18,
   "metadata": {},
   "outputs": [
    {
     "data": {
      "text/plain": [
       "array([71.4, 78.8, 69.8, 75.6, 71.6, 84. , 76.6, 82.8, 75.2, 70.2, 82.4,\n",
       "       68.6, 71.8, 65.6, 81.4, 79.4, 73.6, 73.2, 66. , 86. , 78.8, 73.8,\n",
       "       75.2, 68.2, 68.6, 68. , 83.6, 67. , 76.4, 80.2, 89. , 70.2, 79.6,\n",
       "       75.2, 69.8, 87. , 74.8, 64. , 69.8, 75.4, 76.2, 73.8, 68.6, 78.6,\n",
       "       68.8, 76. , 83. , 76.4, 69.8, 90. ])"
      ]
     },
     "execution_count": 18,
     "metadata": {},
     "output_type": "execute_result"
    }
   ],
   "source": [
    "#每個學生平均\n",
    "np.mean(scores,axis=1)"
   ]
  }
 ],
 "metadata": {
  "kernelspec": {
   "display_name": "Python 3",
   "language": "python",
   "name": "python3"
  },
  "language_info": {
   "codemirror_mode": {
    "name": "ipython",
    "version": 3
   },
   "file_extension": ".py",
   "mimetype": "text/x-python",
   "name": "python",
   "nbconvert_exporter": "python",
   "pygments_lexer": "ipython3",
   "version": "3.11.9"
  }
 },
 "nbformat": 4,
 "nbformat_minor": 2
}
