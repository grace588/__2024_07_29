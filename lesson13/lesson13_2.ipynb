{
 "cells": [
  {
   "cell_type": "code",
   "execution_count": 1,
   "metadata": {},
   "outputs": [
    {
     "data": {
      "text/plain": [
       "[3, 6, 9, 12, 15]"
      ]
     },
     "execution_count": 1,
     "metadata": {},
     "output_type": "execute_result"
    }
   ],
   "source": [
    "values = [1, 2, 3, 4, 5]\n",
    "multiply = 3\n",
    "\n",
    "new_values = []\n",
    "for i in values:\n",
    "    new_values.append(i*multiply)\n",
    "\n",
    "new_values"
   ]
  },
  {
   "cell_type": "code",
   "execution_count": 1,
   "metadata": {},
   "outputs": [
    {
     "data": {
      "text/plain": [
       "[3, 6, 9, 12, 15]"
      ]
     },
     "execution_count": 1,
     "metadata": {},
     "output_type": "execute_result"
    }
   ],
   "source": [
    "values = [1, 2, 3, 4, 5]\n",
    "multiply = 3\n",
    "\n",
    "new_values = [i*multiply for i in values]\n",
    "new_values"
   ]
  },
  {
   "cell_type": "code",
   "execution_count": 2,
   "metadata": {},
   "outputs": [
    {
     "data": {
      "text/plain": [
       "[1, 2, 3, 4, 5, 1, 2, 3, 4, 5, 1, 2, 3, 4, 5]"
      ]
     },
     "execution_count": 2,
     "metadata": {},
     "output_type": "execute_result"
    }
   ],
   "source": [
    "values = [1, 2, 3, 4, 5]\n",
    "multiply = 3\n",
    "values * multiply"
   ]
  },
  {
   "cell_type": "code",
   "execution_count": 3,
   "metadata": {},
   "outputs": [
    {
     "data": {
      "text/plain": [
       "array([ 3.14159, 12.56636, 28.27431, 50.26544, 78.53975])"
      ]
     },
     "execution_count": 3,
     "metadata": {},
     "output_type": "execute_result"
    }
   ],
   "source": [
    "import numpy as np\n",
    "values_array = np.array([1, 2, 3, 4, 5])\n",
    "multiply = 3\n",
    "values_array * multiply\n",
    "values_array ** 2 * 3.14159"
   ]
  },
  {
   "cell_type": "code",
   "execution_count": 4,
   "metadata": {},
   "outputs": [
    {
     "data": {
      "text/plain": [
       "array([[70, 70, 67, 93, 81],\n",
       "       [77, 59, 76, 90, 61],\n",
       "       [92, 83, 53, 70, 89],\n",
       "       [87, 97, 74, 65, 57],\n",
       "       [89, 93, 54, 77, 93],\n",
       "       [61, 82, 79, 78, 72],\n",
       "       [76, 99, 75, 51, 58],\n",
       "       [64, 59, 72, 97, 90],\n",
       "       [86, 66, 90, 83, 75],\n",
       "       [55, 54, 59, 91, 69],\n",
       "       [71, 52, 75, 52, 73],\n",
       "       [81, 61, 83, 74, 60],\n",
       "       [80, 64, 72, 94, 74],\n",
       "       [81, 57, 59, 75, 76],\n",
       "       [85, 64, 97, 99, 89],\n",
       "       [89, 58, 73, 53, 69],\n",
       "       [78, 70, 87, 56, 51],\n",
       "       [81, 62, 75, 52, 66],\n",
       "       [52, 91, 54, 83, 68],\n",
       "       [90, 83, 92, 74, 81],\n",
       "       [85, 68, 77, 89, 62],\n",
       "       [62, 96, 56, 55, 77],\n",
       "       [96, 50, 69, 93, 60],\n",
       "       [75, 61, 73, 77, 66],\n",
       "       [54, 67, 76, 74, 72],\n",
       "       [96, 61, 73, 67, 89],\n",
       "       [64, 56, 89, 84, 97],\n",
       "       [75, 55, 84, 83, 66],\n",
       "       [72, 83, 88, 85, 67],\n",
       "       [74, 91, 76, 51, 52],\n",
       "       [61, 66, 59, 69, 71],\n",
       "       [90, 67, 50, 59, 61],\n",
       "       [72, 90, 90, 63, 88],\n",
       "       [51, 64, 61, 76, 55],\n",
       "       [96, 78, 56, 56, 60],\n",
       "       [50, 87, 53, 64, 54],\n",
       "       [79, 95, 77, 55, 68],\n",
       "       [86, 74, 82, 55, 94],\n",
       "       [58, 75, 58, 71, 59],\n",
       "       [87, 95, 90, 64, 77],\n",
       "       [84, 50, 83, 91, 95],\n",
       "       [51, 65, 91, 71, 53],\n",
       "       [86, 78, 59, 74, 66],\n",
       "       [86, 71, 65, 85, 76],\n",
       "       [95, 69, 73, 59, 61],\n",
       "       [94, 99, 91, 74, 95],\n",
       "       [90, 59, 93, 90, 58],\n",
       "       [96, 83, 83, 50, 69],\n",
       "       [72, 66, 81, 83, 94],\n",
       "       [86, 94, 69, 97, 58]])"
      ]
     },
     "execution_count": 4,
     "metadata": {},
     "output_type": "execute_result"
    }
   ],
   "source": [
    "import numpy as np\n",
    "np.random.randint(50,100,size=(50,5))"
   ]
  }
 ],
 "metadata": {
  "kernelspec": {
   "display_name": "Python 3",
   "language": "python",
   "name": "python3"
  },
  "language_info": {
   "codemirror_mode": {
    "name": "ipython",
    "version": 3
   },
   "file_extension": ".py",
   "mimetype": "text/x-python",
   "name": "python",
   "nbconvert_exporter": "python",
   "pygments_lexer": "ipython3",
   "version": "3.11.9"
  }
 },
 "nbformat": 4,
 "nbformat_minor": 2
}
