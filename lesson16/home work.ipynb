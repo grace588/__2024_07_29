{
 "cells": [
  {
   "cell_type": "code",
   "execution_count": 3,
   "metadata": {},
   "outputs": [
    {
     "data": {
      "text/html": [
       "<div>\n",
       "<style scoped>\n",
       "    .dataframe tbody tr th:only-of-type {\n",
       "        vertical-align: middle;\n",
       "    }\n",
       "\n",
       "    .dataframe tbody tr th {\n",
       "        vertical-align: top;\n",
       "    }\n",
       "\n",
       "    .dataframe thead th {\n",
       "        text-align: right;\n",
       "    }\n",
       "</style>\n",
       "<table border=\"1\" class=\"dataframe\">\n",
       "  <thead>\n",
       "    <tr style=\"text-align: right;\">\n",
       "      <th></th>\n",
       "      <th>洲名</th>\n",
       "      <th>國家</th>\n",
       "      <th>日期</th>\n",
       "      <th>總確診數</th>\n",
       "      <th>新增確診數</th>\n",
       "      <th>總人口數</th>\n",
       "    </tr>\n",
       "  </thead>\n",
       "  <tbody>\n",
       "    <tr>\n",
       "      <th>86369</th>\n",
       "      <td>亞洲</td>\n",
       "      <td>日本</td>\n",
       "      <td>2022-02-03</td>\n",
       "      <td>3019169</td>\n",
       "      <td>104345</td>\n",
       "      <td>126050796</td>\n",
       "    </tr>\n",
       "    <tr>\n",
       "      <th>177979</th>\n",
       "      <td>北美洲</td>\n",
       "      <td>美國</td>\n",
       "      <td>2022-01-10</td>\n",
       "      <td>61801347</td>\n",
       "      <td>1383887</td>\n",
       "      <td>332915074</td>\n",
       "    </tr>\n",
       "  </tbody>\n",
       "</table>\n",
       "</div>"
      ],
      "text/plain": [
       "         洲名  國家          日期      總確診數    新增確診數       總人口數\n",
       "86369    亞洲  日本  2022-02-03   3019169   104345  126050796\n",
       "177979  北美洲  美國  2022-01-10  61801347  1383887  332915074"
      ]
     },
     "metadata": {},
     "output_type": "display_data"
    }
   ],
   "source": [
    "import pandas as pd\n",
    "df = pd.read_csv('world.csv')\n",
    "df1 = df.reindex(columns=['洲名','國家','日期','總確診數','新增確診數','總人口數'])\n",
    "\n",
    "#Japan\n",
    "df_Japan = df1.query('國家==\"日本\"')\n",
    "Japan_max = int(df_Japan['新增確診數'].max())\n",
    "df2=df_Japan.query('新增確診數==@Japan_max')  \n",
    "\n",
    "#USA\n",
    "df_USA = df1.query('國家==\"美國\"')\n",
    "USA_max = int(df_USA['新增確診數'].max())\n",
    "df3=df_USA.query('新增確診數==@USA_max')  \n",
    "\n",
    "#USA及Japan最多新增確診數的資料\n",
    "df4 = pd.concat([df2, df3])\n",
    "display(df4)"
   ]
  }
 ],
 "metadata": {
  "kernelspec": {
   "display_name": "venv1",
   "language": "python",
   "name": "python3"
  },
  "language_info": {
   "codemirror_mode": {
    "name": "ipython",
    "version": 3
   },
   "file_extension": ".py",
   "mimetype": "text/x-python",
   "name": "python",
   "nbconvert_exporter": "python",
   "pygments_lexer": "ipython3",
   "version": "3.10.14"
  }
 },
 "nbformat": 4,
 "nbformat_minor": 2
}
