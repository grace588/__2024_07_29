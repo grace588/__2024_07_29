{
 "cells": [
  {
   "cell_type": "code",
   "execution_count": 1,
   "metadata": {},
   "outputs": [
    {
     "name": "stdout",
     "output_type": "stream",
     "text": [
      "不可以考駕照\n"
     ]
    }
   ],
   "source": [
    "age = 17\n",
    "\n",
    "if age >= 18:\n",
    "    print(\"可以考駕照\")\n",
    "else:\n",
    "    print(\"不可以考駕照\")"
   ]
  },
  {
   "cell_type": "code",
   "execution_count": 3,
   "metadata": {},
   "outputs": [
    {
     "name": "stdout",
     "output_type": "stream",
     "text": [
      "學生總分數是:300\n"
     ]
    }
   ],
   "source": [
    "#輸入學生分數,最高300分\n",
    "#要不要加分(y,n)\n",
    "#yes,總分加5%\n",
    "import math\n",
    "score = int(input('請輸入學生分數(最高300分):'))\n",
    "is_add = input('學生是否符合加分條件?(y,n)')\n",
    "\n",
    "if is_add == 'y':\n",
    "    score *= 1.05\n",
    "    score = math.ceil(score)\n",
    "    if score > 300:\n",
    "        score = 300\n",
    "\n",
    "print(f'學生總分數是:{score}')"
   ]
  },
  {
   "cell_type": "code",
   "execution_count": null,
   "metadata": {},
   "outputs": [],
   "source": [
    "#輸入學生分數,最高300分\n",
    "#要不要加分(y,n)\n",
    "#yes,總分加5%\n",
    "import math\n",
    "score = int(input('請輸入學生分數(最高300分):'))\n",
    "is_add = input('學生是否符合加分條件?(y,n)')\n",
    "\n",
    "if is_add == 'y':\n",
    "    score *= 1.05\n",
    "    score = math.ceil(score)\n",
    "\n",
    "print(f'學生總分數是:{score}')"
   ]
  },
  {
   "cell_type": "code",
   "execution_count": 4,
   "metadata": {},
   "outputs": [
    {
     "name": "stdout",
     "output_type": "stream",
     "text": [
      "格式錯誤\n",
      "學生總分數是:315\n",
      "應用程式結束\n"
     ]
    }
   ],
   "source": [
    "#輸入學生分數,最高300分\n",
    "#要不要加分(y,n)\n",
    "#yes,總分加5%\n",
    "import math\n",
    "try:\n",
    "    score = int(input('請輸入學生分數(最高300分):'))\n",
    "except ValueError:\n",
    "    print(\"格式錯誤\")\n",
    "else:\n",
    "    is_add = input('學生是否符合加分條件?(y,n)')\n",
    "\n",
    "if is_add == 'y':\n",
    "    score *= 1.05\n",
    "    score = math.ceil(score)\n",
    "\n",
    "    print(f'學生總分數是:{score}')\n",
    "print(\"應用程式結束\")    "
   ]
  },
  {
   "cell_type": "code",
   "execution_count": 5,
   "metadata": {},
   "outputs": [
    {
     "name": "stdout",
     "output_type": "stream",
     "text": [
      "格式錯誤\n",
      "應用程式結束\n"
     ]
    }
   ],
   "source": [
    "#輸入學生分數,最高300分\n",
    "#要不要加分(y,n)\n",
    "#yes,總分加5%\n",
    "import math\n",
    "try:\n",
    "    score = int(input('請輸入學生分數(最高300分):'))\n",
    "except ValueError:\n",
    "    print(\"格式錯誤\")\n",
    "else:\n",
    "    is_add = input('學生是否符合加分條件?(y,n)')\n",
    "    if is_add == 'y':\n",
    "        score *= 1.05\n",
    "        score = math.ceil(score)\n",
    "\n",
    "    print(f'學生總分數是:{score}')\n",
    "print(\"應用程式結束\")"
   ]
  },
  {
   "cell_type": "code",
   "execution_count": null,
   "metadata": {},
   "outputs": [],
   "source": [
    "#輸入學生分數,最高300分\n",
    "#要不要加分(y,n)\n",
    "#yes,總分加5%\n",
    "import math\n",
    "try:\n",
    "    score = int(input('請輸入學生分數(最高300分):'))\n",
    "    raise NameError\n",
    "except ValueError:\n",
    "    print(\"格式錯誤\")\n",
    "else:\n",
    "    is_add = input('學生是否符合加分條件?(y,n)')\n",
    "    if is_add == 'y':\n",
    "        score *= 1.05\n",
    "        score = math.ceil(score)\n",
    "\n",
    "    print(f'學生總分數是:{score}')\n",
    "print(\"應用程式結束\")"
   ]
  },
  {
   "cell_type": "code",
   "execution_count": 6,
   "metadata": {},
   "outputs": [
    {
     "name": "stdout",
     "output_type": "stream",
     "text": [
      "不知名的錯誤\n",
      "應用程式結束\n"
     ]
    }
   ],
   "source": [
    "#輸入學生分數,最高300分\n",
    "#要不要加分(y,n)\n",
    "#yes,總分加5%\n",
    "import math\n",
    "try:\n",
    "    score = int(input('請輸入學生分數(最高300分):'))\n",
    "    raise NameError\n",
    "except ValueError:\n",
    "    print(\"格式錯誤\")\n",
    "except Exception:\n",
    "    print(\"不知名的錯誤\")\n",
    "else:\n",
    "    is_add = input('學生是否符合加分條件?(y,n)')\n",
    "    if is_add == 'y':\n",
    "        score *= 1.05\n",
    "        score = math.ceil(score)\n",
    "\n",
    "    print(f'學生總分數是:{score}')\n",
    "print(\"應用程式結束\")"
   ]
  },
  {
   "cell_type": "code",
   "execution_count": 7,
   "metadata": {},
   "outputs": [
    {
     "name": "stdout",
     "output_type": "stream",
     "text": [
      "格式錯誤\n",
      "應用程式結束\n"
     ]
    }
   ],
   "source": [
    "#輸入學生分數,最高300分\n",
    "#要不要加分(y,n)\n",
    "#yes,總分加5%\n",
    "import math\n",
    "try:\n",
    "    score = int(input('請輸入學生分數(最高300分):'))\n",
    "    if score > 300:\n",
    "        raise Exception\n",
    "    if score < 0:\n",
    "        raise Exception\n",
    "except ValueError:\n",
    "    print(\"格式錯誤\")\n",
    "except Exception:\n",
    "    print(\"超出範圍\")\n",
    "else:\n",
    "    is_add = input('學生是否符合加分條件?(y,n)')\n",
    "    if is_add == 'y':\n",
    "        score *= 1.05\n",
    "        score = math.ceil(score)\n",
    "\n",
    "    print(f'學生總分數是:{score}')\n",
    "print(\"應用程式結束\")"
   ]
  },
  {
   "cell_type": "code",
   "execution_count": 9,
   "metadata": {},
   "outputs": [
    {
     "name": "stdout",
     "output_type": "stream",
     "text": [
      "學生總分數是:263\n",
      "應用程式結束\n"
     ]
    }
   ],
   "source": [
    "#輸入學生分數,最高300分\n",
    "#要不要加分(y,n)\n",
    "#yes,總分加5%\n",
    "import math\n",
    "try:\n",
    "    score = int(input('請輸入學生分數(最高300分):'))\n",
    "    if score > 300:\n",
    "        raise Exception\n",
    "    if score < 0:\n",
    "        raise Exception\n",
    "    \n",
    "    is_add = input('學生是否符合加分條件?(y,n)')\n",
    "    if is_add == 'y':\n",
    "        score *= 1.05\n",
    "        score = math.ceil(score)\n",
    "\n",
    "    print(f'學生總分數是:{score}')\n",
    "except ValueError:\n",
    "    print(\"格式錯誤\")\n",
    "except Exception:\n",
    "    print(\"超出範圍\")\n",
    "\n",
    "\n",
    "print(\"應用程式結束\")"
   ]
  },
  {
   "cell_type": "code",
   "execution_count": 3,
   "metadata": {},
   "outputs": [
    {
     "name": "stdout",
     "output_type": "stream",
     "text": [
      "grace您好:\n",
      "您的BMI值是:20.31\n",
      "體重:正常\n"
     ]
    }
   ],
   "source": [
    "name=input('請輸入姓名:')\n",
    "try:\n",
    "    h=float(input('請輸入身高(cm):'))\n",
    "    w=float(input('請輸入體重(kg):'))\n",
    "except Exception:\n",
    "    print('格式錯誤')\n",
    "bmi=round(w/(h*0.01)**2,ndigits=2)\n",
    "print(f'{name}您好:\\n您的BMI值是:{bmi}')\n",
    "if bmi<18.5:\n",
    "    print('體重:過輕')\n",
    "elif bmi<24:\n",
    "    print('體重:正常')\n",
    "elif bmi<27:\n",
    "    print('體重:過重')\n",
    "elif bmi<30:\n",
    "    print('體重:輕度肥胖')\n",
    "elif bmi<35:\n",
    "    print('體重:中度肥胖')\n",
    "else:\n",
    "    print('體重:重度肥胖')"
   ]
  }
 ],
 "metadata": {
  "kernelspec": {
   "display_name": "Python 3",
   "language": "python",
   "name": "python3"
  },
  "language_info": {
   "codemirror_mode": {
    "name": "ipython",
    "version": 3
   },
   "file_extension": ".py",
   "mimetype": "text/x-python",
   "name": "python",
   "nbconvert_exporter": "python",
   "pygments_lexer": "ipython3",
   "version": "3.11.9"
  }
 },
 "nbformat": 4,
 "nbformat_minor": 2
}
