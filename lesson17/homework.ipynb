{
 "cells": [
  {
   "cell_type": "code",
   "execution_count": null,
   "metadata": {},
   "outputs": [],
   "source": [
    "import yfinance as yf\n",
    "import pandas as pd\n",
    "import matplotlib.pyplot as plt\n",
    "\n",
    "# Define stock symbols\n",
    "stocks = ['2882.TW', '2888.TW', '2891.TW', '2887.TW']\n",
    "\n",
    "# Download stock data for 2023\n",
    "data = yf.download(stocks, start='2023-01-01', end='2023-12-31')['Adj Close']\n",
    "\n",
    "# Calculate daily differences\n",
    "daily_diff = data.diff()\n",
    "\n",
    "# Calculate average annual difference (mean of daily differences)\n",
    "annual_avg_diff = daily_diff.mean()\n",
    "\n",
    "# Calculate correlation matrix\n",
    "correlation_matrix = data.corr()\n",
    "\n",
    "# Plot the adjusted close prices\n",
    "plt.figure(figsize=(12, 8))\n",
    "for stock in stocks:\n",
    "    plt.plot(data[stock], label=stock)\n",
    "plt.title('Adjusted Close Prices of Financial Holdings in 2023')\n",
    "plt.xlabel('Date')\n",
    "plt.ylabel('Adjusted Close Price (TWD)')\n",
    "plt.legend()\n",
    "plt.show()\n",
    "\n",
    "# Output the results\n",
    "print(\"Annual Average Difference:\")\n",
    "print(annual_avg_diff)\n",
    "\n",
    "print(\"\\nDaily Difference:\")\n",
    "print(daily_diff)\n",
    "\n",
    "print(\"\\nCorrelation Coefficient:\")\n",
    "print(correlation_matrix)\n"
   ]
  }
 ],
 "metadata": {
  "language_info": {
   "name": "python"
  }
 },
 "nbformat": 4,
 "nbformat_minor": 2
}
