{
 "cells": [
  {
   "cell_type": "code",
   "execution_count": 4,
   "metadata": {},
   "outputs": [
    {
     "name": "stderr",
     "output_type": "stream",
     "text": [
      "[*********************100%***********************]  1 of 1 completed\n"
     ]
    },
    {
     "ename": "NameError",
     "evalue": "name 'data' is not defined",
     "output_type": "error",
     "traceback": [
      "\u001b[0;31m---------------------------------------------------------------------------\u001b[0m",
      "\u001b[0;31mNameError\u001b[0m                                 Traceback (most recent call last)",
      "Cell \u001b[0;32mIn[4], line 10\u001b[0m\n\u001b[1;32m      6\u001b[0m stocks \u001b[38;5;241m=\u001b[39m [\u001b[38;5;124m'\u001b[39m\u001b[38;5;124m2882.TW\u001b[39m\u001b[38;5;124m'\u001b[39m, \u001b[38;5;124m'\u001b[39m\u001b[38;5;124m2888.TW\u001b[39m\u001b[38;5;124m'\u001b[39m, \u001b[38;5;124m'\u001b[39m\u001b[38;5;124m2891.TW\u001b[39m\u001b[38;5;124m'\u001b[39m, \u001b[38;5;124m'\u001b[39m\u001b[38;5;124m2887.TW\u001b[39m\u001b[38;5;124m'\u001b[39m]\n\u001b[1;32m      9\u001b[0m \u001b[38;5;66;03m# Calculate daily differences\u001b[39;00m\n\u001b[0;32m---> 10\u001b[0m daily_diff \u001b[38;5;241m=\u001b[39m \u001b[43mdata\u001b[49m\u001b[38;5;241m.\u001b[39mdiff()\n\u001b[1;32m     12\u001b[0m \u001b[38;5;66;03m# Calculate average annual difference (mean of daily differences)\u001b[39;00m\n\u001b[1;32m     13\u001b[0m annual_avg_diff \u001b[38;5;241m=\u001b[39m daily_diff\u001b[38;5;241m.\u001b[39mmean()\n",
      "\u001b[0;31mNameError\u001b[0m: name 'data' is not defined"
     ]
    }
   ],
   "source": [
    "import yfinance as yf\n",
    "import pandas as pd\n",
    "yf.download('AAPL')\n",
    "\n",
    "# Define stock symbols\n",
    "stocks = ['2882.TW', '2888.TW', '2891.TW', '2887.TW']\n",
    "\n",
    "\n",
    "# Calculate daily differences\n",
    "daily_diff = data.diff()\n",
    "\n",
    "# Calculate average annual difference (mean of daily differences)\n",
    "annual_avg_diff = daily_diff.mean()\n",
    "\n",
    "# Calculate correlation matrix\n",
    "correlation_matrix = data.corr()\n",
    "\n",
    "# Plot the adjusted close prices\n",
    "plt.figure(figsize=(12, 8))\n",
    "for stock in stocks:\n",
    "    plt.plot(data[stock], label=stock)\n",
    "plt.title('Adjusted Close Prices of Financial Holdings in 2023')\n",
    "plt.xlabel('Date')\n",
    "plt.ylabel('Adjusted Close Price (TWD)')\n",
    "plt.legend()\n",
    "plt.show()\n",
    "\n",
    "# Output the results\n",
    "print(\"Annual Average Difference:\")\n",
    "print(annual_avg_diff)\n",
    "\n",
    "print(\"\\nDaily Difference:\")\n",
    "print(daily_diff)\n",
    "\n",
    "print(\"\\nCorrelation Coefficient:\")\n",
    "print(correlation_matrix)\n"
   ]
  },
  {
   "cell_type": "code",
   "execution_count": 5,
   "metadata": {},
   "outputs": [
    {
     "name": "stderr",
     "output_type": "stream",
     "text": [
      "[*********************100%***********************]  1 of 1 completed\n",
      "[*********************100%***********************]  1 of 1 completed\n",
      "[*********************100%***********************]  1 of 1 completed\n",
      "[*********************100%***********************]  1 of 1 completed\n",
      "[*********************100%***********************]  1 of 1 completed\n",
      "[*********************100%***********************]  1 of 1 completed\n"
     ]
    },
    {
     "ename": "NameError",
     "evalue": "name 'prices_df1_2023' is not defined",
     "output_type": "error",
     "traceback": [
      "\u001b[0;31m---------------------------------------------------------------------------\u001b[0m",
      "\u001b[0;31mNameError\u001b[0m                                 Traceback (most recent call last)",
      "Cell \u001b[0;32mIn[5], line 20\u001b[0m\n\u001b[1;32m     17\u001b[0m prices_pct_change\n\u001b[1;32m     19\u001b[0m \u001b[38;5;66;03m#每日差\u001b[39;00m\n\u001b[0;32m---> 20\u001b[0m prices_diff \u001b[38;5;241m=\u001b[39m \u001b[43mprices_df1_2023\u001b[49m\u001b[38;5;241m-\u001b[39mprices_df1_2023\u001b[38;5;241m.\u001b[39mshift(\u001b[38;5;241m1\u001b[39m)\n\u001b[1;32m     22\u001b[0m \u001b[38;5;66;03m#相關係數\u001b[39;00m\n\u001b[1;32m     23\u001b[0m prices_pct_change\u001b[38;5;241m.\u001b[39mcorr()\n",
      "\u001b[0;31mNameError\u001b[0m: name 'prices_df1_2023' is not defined"
     ]
    }
   ],
   "source": [
    "import pandas_datareader.data as pdr\n",
    "import yfinance as yf\n",
    "yf.download('AAPL')\n",
    "\n",
    "#國泰金控（2882）、新光金控（2888）、中信金控（2891）、台新金控（2887）\n",
    "yf.download('2330.TW')\n",
    "\n",
    "all_data = {ticker:yf.download(ticker) for ticker in ['2882.TW','2888.TW','2891.TW','2887.TW']}\n",
    "all_data1 = {ticker:df['Adj Close'] for ticker,df in all_data.items()}\n",
    "prices_df = pd.DataFrame(all_data1)\n",
    "prices_df.columns = ['國泰金控','新光金控','中信金控','台新金控']\n",
    "prices_df1 = prices_df.dropna()\n",
    "prices_df1_202305 = prices_df1.loc['2023']\n",
    "\n",
    "#平均差\n",
    "prices_pct_change = prices_df1_202305.pct_change()\n",
    "prices_pct_change\n",
    "\n",
    "#每日差\n",
    "prices_diff = prices_df1_2023-prices_df1_2023.shift(1)\n",
    "\n",
    "#相關係數\n",
    "prices_pct_change.corr()\n",
    "prices_pct_change.plot()\n",
    "\n"
   ]
  }
 ],
 "metadata": {
  "kernelspec": {
   "display_name": "Python 3",
   "language": "python",
   "name": "python3"
  },
  "language_info": {
   "codemirror_mode": {
    "name": "ipython",
    "version": 3
   },
   "file_extension": ".py",
   "mimetype": "text/x-python",
   "name": "python",
   "nbconvert_exporter": "python",
   "pygments_lexer": "ipython3",
   "version": "3.11.9"
  }
 },
 "nbformat": 4,
 "nbformat_minor": 2
}
