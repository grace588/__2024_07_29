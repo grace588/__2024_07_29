{
 "cells": [
  {
   "cell_type": "code",
   "execution_count": 2,
   "metadata": {},
   "outputs": [
    {
     "data": {
      "text/plain": [
       "__main__.Person"
      ]
     },
     "execution_count": 2,
     "metadata": {},
     "output_type": "execute_result"
    }
   ],
   "source": [
    "class Person():\n",
    "    pass\n",
    " \n",
    "p1 = Person() #預設的初始化\n",
    "type(p1)\n",
    "p2 = Person()\n",
    "type(p2)"
   ]
  },
  {
   "cell_type": "code",
   "execution_count": 6,
   "metadata": {},
   "outputs": [
    {
     "name": "stdout",
     "output_type": "stream",
     "text": [
      "grace\n",
      "吳昭慧\n"
     ]
    }
   ],
   "source": [
    "class Person():\n",
    "    def __init__(self,name:str):\n",
    "        self.name = name\n",
    " \n",
    "p1 = Person(name='grace') #自訂的init\n",
    "print(p1.name)\n",
    "p2 = Person('吳昭慧')\n",
    "print(p2.name)"
   ]
  },
  {
   "cell_type": "code",
   "execution_count": 7,
   "metadata": {},
   "outputs": [
    {
     "name": "stdout",
     "output_type": "stream",
     "text": [
      "我的名字叫:grace\n",
      "我的名字叫:吳昭慧\n"
     ]
    }
   ],
   "source": [
    "class Person():\n",
    "    def __init__(self,name:str):\n",
    "        self.name = name\n",
    "\n",
    "    def description(self)->str:\n",
    "        return f'我的名字叫:{self.name}'    \n",
    " \n",
    "p1 = Person(name='grace') #自訂的init\n",
    "print(p1.description())\n",
    "p2 = Person('吳昭慧')\n",
    "print(p2.description())"
   ]
  },
  {
   "cell_type": "code",
   "execution_count": 12,
   "metadata": {},
   "outputs": [
    {
     "ename": "AttributeError",
     "evalue": "'Person' object has no attribute 'english'",
     "output_type": "error",
     "traceback": [
      "\u001b[0;31m---------------------------------------------------------------------------\u001b[0m",
      "\u001b[0;31mAttributeError\u001b[0m                            Traceback (most recent call last)",
      "Cell \u001b[0;32mIn[12], line 18\u001b[0m\n\u001b[1;32m     14\u001b[0m         \u001b[38;5;28;01mreturn\u001b[39;00m \u001b[38;5;124mf\u001b[39m\u001b[38;5;124m'\u001b[39m\u001b[38;5;124m我的名字叫:\u001b[39m\u001b[38;5;132;01m{\u001b[39;00m\u001b[38;5;28mself\u001b[39m\u001b[38;5;241m.\u001b[39mname\u001b[38;5;132;01m}\u001b[39;00m\u001b[38;5;130;01m\\n\u001b[39;00m\u001b[38;5;124m國文分數:\u001b[39m\u001b[38;5;132;01m{\u001b[39;00m\u001b[38;5;28mself\u001b[39m\u001b[38;5;241m.\u001b[39mchinese\u001b[38;5;132;01m}\u001b[39;00m\u001b[38;5;130;01m\\n\u001b[39;00m\u001b[38;5;124m英文分數:\u001b[39m\u001b[38;5;132;01m{\u001b[39;00m\u001b[38;5;28mself\u001b[39m\u001b[38;5;241m.\u001b[39menglish\u001b[38;5;132;01m}\u001b[39;00m\u001b[38;5;124m'\u001b[39m\n\u001b[1;32m     17\u001b[0m p1 \u001b[38;5;241m=\u001b[39m Person(name\u001b[38;5;241m=\u001b[39m\u001b[38;5;124m'\u001b[39m\u001b[38;5;124mgrace\u001b[39m\u001b[38;5;124m'\u001b[39m,e\u001b[38;5;241m=\u001b[39m\u001b[38;5;241m95\u001b[39m,c\u001b[38;5;241m=\u001b[39m\u001b[38;5;241m70\u001b[39m) \u001b[38;5;66;03m#自訂的init\u001b[39;00m\n\u001b[0;32m---> 18\u001b[0m \u001b[38;5;28mprint\u001b[39m(\u001b[43mp1\u001b[49m\u001b[38;5;241;43m.\u001b[39;49m\u001b[43mdescription\u001b[49m\u001b[43m(\u001b[49m\u001b[43m)\u001b[49m)\n\u001b[1;32m     19\u001b[0m \u001b[38;5;28mprint\u001b[39m(\u001b[38;5;124mf\u001b[39m\u001b[38;5;124m'\u001b[39m\u001b[38;5;124m我的總分:\u001b[39m\u001b[38;5;132;01m{\u001b[39;00mp1\u001b[38;5;241m.\u001b[39msum()\u001b[38;5;132;01m}\u001b[39;00m\u001b[38;5;124m'\u001b[39m)\n\u001b[1;32m     20\u001b[0m \u001b[38;5;28mprint\u001b[39m(\u001b[38;5;124mf\u001b[39m\u001b[38;5;124m'\u001b[39m\u001b[38;5;124m我的平均:\u001b[39m\u001b[38;5;132;01m{\u001b[39;00mp1\u001b[38;5;241m.\u001b[39maverage()\u001b[38;5;132;01m}\u001b[39;00m\u001b[38;5;124m'\u001b[39m)\n",
      "Cell \u001b[0;32mIn[12], line 14\u001b[0m, in \u001b[0;36mPerson.description\u001b[0;34m(self)\u001b[0m\n\u001b[1;32m     13\u001b[0m \u001b[38;5;28;01mdef\u001b[39;00m \u001b[38;5;21mdescription\u001b[39m(\u001b[38;5;28mself\u001b[39m)\u001b[38;5;241m-\u001b[39m\u001b[38;5;241m>\u001b[39m\u001b[38;5;28mstr\u001b[39m: \u001b[38;5;66;03m#實體方法\u001b[39;00m\n\u001b[0;32m---> 14\u001b[0m     \u001b[38;5;28;01mreturn\u001b[39;00m \u001b[38;5;124mf\u001b[39m\u001b[38;5;124m'\u001b[39m\u001b[38;5;124m我的名字叫:\u001b[39m\u001b[38;5;132;01m{\u001b[39;00m\u001b[38;5;28mself\u001b[39m\u001b[38;5;241m.\u001b[39mname\u001b[38;5;132;01m}\u001b[39;00m\u001b[38;5;130;01m\\n\u001b[39;00m\u001b[38;5;124m國文分數:\u001b[39m\u001b[38;5;132;01m{\u001b[39;00m\u001b[38;5;28mself\u001b[39m\u001b[38;5;241m.\u001b[39mchinese\u001b[38;5;132;01m}\u001b[39;00m\u001b[38;5;130;01m\\n\u001b[39;00m\u001b[38;5;124m英文分數:\u001b[39m\u001b[38;5;132;01m{\u001b[39;00m\u001b[38;5;28;43mself\u001b[39;49m\u001b[38;5;241;43m.\u001b[39;49m\u001b[43menglish\u001b[49m\u001b[38;5;132;01m}\u001b[39;00m\u001b[38;5;124m'\u001b[39m\n",
      "\u001b[0;31mAttributeError\u001b[0m: 'Person' object has no attribute 'english'"
     ]
    }
   ],
   "source": [
    "class Person():\n",
    "    def __init__(self,name:str,c:int,e:int):\n",
    "        self.name = name\n",
    "        self.chinese=c\n",
    "        self=english=e\n",
    "\n",
    "    def sum(self)->int:\n",
    "        return self.chinese + self.english\n",
    "    \n",
    "    def average(self)->float:\n",
    "        return self.sum() / 2.0\n",
    "    \n",
    "    def description(self)->str: #實體方法\n",
    "        return f'我的名字叫:{self.name}\\n國文分數:{self.chinese}\\n英文分數:{self.english}'\n",
    "   \n",
    " \n",
    "p1 = Person(name='grace',e=95,c=70) #自訂的init\n",
    "print(p1.description())\n",
    "print(f'我的總分:{p1.sum()}')\n",
    "print(f'我的平均:{p1.average()}')\n",
    "p2 = Person('吳昭慧',86,92)\n",
    "print(p2.description())\n",
    "print(f'我的總分:{p2.sum()}')\n",
    "print(f'我的平均:{p2.average()}')"
   ]
  },
  {
   "cell_type": "code",
   "execution_count": 13,
   "metadata": {},
   "outputs": [
    {
     "name": "stdout",
     "output_type": "stream",
     "text": [
      "我的名字叫:robert\n",
      "國文分數:70\n",
      "英文分數:95\n",
      "我的總分:165\n",
      "我的平均:82.5\n",
      "我的名字叫:徐國堂\n",
      "國文分數:86\n",
      "英文分數:92\n",
      "我的總分:178\n",
      "我的平均:89.0\n"
     ]
    }
   ],
   "source": [
    "class Person():\n",
    "    def __init__(self,name:str,c:int,e:int):\n",
    "        self.name = name\n",
    "        self.chinese = c\n",
    "        self.english = e\n",
    "    \n",
    "    def sum(self)->int:\n",
    "        return self.chinese + self.english\n",
    "    \n",
    "    def average(self)->float:\n",
    "        return self.sum() / 2.0\n",
    "\n",
    "    def description(self)->str: #實體方法\n",
    "        return f'我的名字叫:{self.name}\\n國文分數:{self.chinese}\\n英文分數:{self.english}'\n",
    "\n",
    "p1 = Person(name='robert',e=95,c=70) #自訂的init\n",
    "print(p1.description())\n",
    "print(f'我的總分:{p1.sum()}')\n",
    "print(f'我的平均:{p1.average()}')\n",
    "p2 = Person('徐國堂',86,92)\n",
    "print(p2.description())\n",
    "print(f'我的總分:{p2.sum()}')\n",
    "print(f'我的平均:{p2.average()}')"
   ]
  },
  {
   "cell_type": "code",
   "execution_count": 1,
   "metadata": {},
   "outputs": [
    {
     "ename": "NameError",
     "evalue": "name 'bmi' is not defined",
     "output_type": "error",
     "traceback": [
      "\u001b[0;31m---------------------------------------------------------------------------\u001b[0m",
      "\u001b[0;31mNameError\u001b[0m                                 Traceback (most recent call last)",
      "Cell \u001b[0;32mIn[1], line 38\u001b[0m\n\u001b[1;32m     35\u001b[0m     weight \u001b[38;5;241m=\u001b[39m \u001b[38;5;28mfloat\u001b[39m(\u001b[38;5;28minput\u001b[39m(\u001b[38;5;124m'\u001b[39m\u001b[38;5;124m請輸入體重(kg): \u001b[39m\u001b[38;5;124m'\u001b[39m))\n\u001b[1;32m     37\u001b[0m     Mybmi \u001b[38;5;241m=\u001b[39m BMI(name\u001b[38;5;241m=\u001b[39mname, height\u001b[38;5;241m=\u001b[39mheight, weight\u001b[38;5;241m=\u001b[39mweight)\n\u001b[0;32m---> 38\u001b[0m     \u001b[38;5;28mprint\u001b[39m(\u001b[43mbmi\u001b[49m\u001b[38;5;241m.\u001b[39mresult())\n\u001b[1;32m     39\u001b[0m \u001b[38;5;28;01mexcept\u001b[39;00m \u001b[38;5;167;01mValueError\u001b[39;00m:\n\u001b[1;32m     40\u001b[0m     \u001b[38;5;28mprint\u001b[39m(\u001b[38;5;124m\"\u001b[39m\u001b[38;5;124m格式錯誤\u001b[39m\u001b[38;5;124m\"\u001b[39m)\n",
      "\u001b[0;31mNameError\u001b[0m: name 'bmi' is not defined"
     ]
    }
   ],
   "source": [
    "class BMI():\n",
    "    def __init__(self, name:str, height:float, weight:float):\n",
    "        self.name = name\n",
    "        self.height = height\n",
    "        self.weight = weight\n",
    "\n",
    "    def getname(self) -> str:\n",
    "        return self.name\n",
    "\n",
    "    def getbmi(self) -> float:\n",
    "        return self.weight / ((self.height * 0.01) ** 2)\n",
    "\n",
    "    def get_status_message(self, bmi: float) -> str:\n",
    "        if bmi < 18.5:\n",
    "            return \"體重過輕\"\n",
    "        elif bmi < 24:\n",
    "            return \"正常範圍\"\n",
    "        elif bmi < 27:\n",
    "            return \"過重\"\n",
    "        elif bmi < 30:\n",
    "            return \"輕度肥胖\"\n",
    "        elif bmi < 35:\n",
    "            return \"中度肥胖\"\n",
    "        else:\n",
    "            return \"重度肥胖\"\n",
    "\n",
    "    def result(self) -> str:\n",
    "        bmi = self.getbmi()\n",
    "        return f\"{self.getname()} 的 BMI 為 {bmi:.2f}, 為 {self.get_status_message(bmi)}\"\n",
    "\n",
    "while True:\n",
    "    try:\n",
    "        name = input(\"請輸入姓名: \")\n",
    "        height = float(input('請輸入身高(cm): '))\n",
    "        weight = float(input('請輸入體重(kg): '))\n",
    "\n",
    "        Mybmi = BMI(name=name, height=height, weight=weight)\n",
    "        print(bmi.result())\n",
    "    except ValueError:\n",
    "        print(\"格式錯誤\")\n",
    "        continue\n",
    "\n",
    "    stuff = input(\"是否繼續輸入資料?(q: 離開,其他鍵:繼續)\")\n",
    "\n",
    "    if stuff == 'q':\n",
    "        break\n",
    "\n",
    "print(\"程式結束\")"
   ]
  },
  {
   "cell_type": "code",
   "execution_count": 2,
   "metadata": {},
   "outputs": [
    {
     "name": "stdout",
     "output_type": "stream",
     "text": [
      "geace 的 BMI 為20.31, 為正常範圍\n",
      "應用程式結束\n"
     ]
    }
   ],
   "source": [
    "class BMI():\n",
    "    def __init__(self, name:str, height:float, weight:float):\n",
    "        self.name = name\n",
    "        self.height = height\n",
    "        self.weight = weight\n",
    "\n",
    "    def getName(self)->str:\n",
    "        return self.name\n",
    "    \n",
    "    def getBMI(self)->float:\n",
    "        return round(self.weight / ((self.height * 0.01) ** 2), ndigits=2)\n",
    "    \n",
    "    def get_status_message(self)->str:\n",
    "        self.bmi = self.getBMI()\n",
    "        \n",
    "        if self.bmi < 18.5:\n",
    "            return \"體重過輕\"\n",
    "        elif self.bmi < 24:\n",
    "            return \"正常範圍\"\n",
    "        elif self.bmi < 27:\n",
    "            return \"過重\"\n",
    "        elif self.bmi < 30:\n",
    "            return \"輕度肥胖\"\n",
    "        elif self.bmi < 35:\n",
    "            return \"中度肥胖\"\n",
    "        else:\n",
    "            return \"重度肥胖\"\n",
    "\n",
    "while True:\n",
    "    try:\n",
    "        name = input(\"請輸入姓名: \")\n",
    "        height = float(input('請輸入身高（cm）: '))\n",
    "        weight = float(input('請輸入體重（kg）: '))\n",
    "        \n",
    "        #這裏建立一個BMI的實體\n",
    "        MyBMI = BMI(name=name, height=height, weight=weight)\n",
    "        print(f\"{MyBMI.getName()} 的 BMI 為{MyBMI.getBMI()}, 為{MyBMI.get_status_message()}\")\n",
    "    except ValueError:\n",
    "        print(\"格式錯誤，請重新輸入數據\")\n",
    "        continue\n",
    "\n",
    "    stuff = input(\"請問是否繼續輸入資料 ('q': 離開, 任意鍵: 繼續)? \")\n",
    "\n",
    "    if stuff == 'q':\n",
    "        break\n",
    "\n",
    "print(\"應用程式結束\")"
   ]
  },
  {
   "cell_type": "code",
   "execution_count": 4,
   "metadata": {},
   "outputs": [
    {
     "name": "stdout",
     "output_type": "stream",
     "text": [
      "geace 的 BMI 為20.31, 為正常範圍\n",
      "應用程式結束\n"
     ]
    }
   ],
   "source": [
    "class BMI():\n",
    "    def __init__(self, name:str, height:float, weight:float):\n",
    "        self.name = name\n",
    "        self.height = height\n",
    "        self.weight = weight\n",
    "\n",
    "    def getName(self)->str:\n",
    "        return self.name\n",
    "    \n",
    "    def getBMI(self)->float:\n",
    "        return round(self.weight / ((self.height * 0.01) ** 2), ndigits=2)\n",
    "    \n",
    "    def get_status_message(self)->str:\n",
    "        self.bmi = self.getBMI()\n",
    "        \n",
    "        if self.bmi < 18.5:\n",
    "            return \"體重過輕\"\n",
    "        elif self.bmi < 24:\n",
    "            return \"正常範圍\"\n",
    "        elif self.bmi < 27:\n",
    "            return \"過重\"\n",
    "        elif self.bmi < 30:\n",
    "            return \"輕度肥胖\"\n",
    "        elif self.bmi < 35:\n",
    "            return \"中度肥胖\"\n",
    "        else:\n",
    "            return \"重度肥胖\"\n",
    "\n",
    "while True:\n",
    "    try:\n",
    "        name = input(\"請輸入姓名: \")\n",
    "        height = float(input('請輸入身高（cm）: '))\n",
    "        weight = float(input('請輸入體重（kg）: '))\n",
    "        \n",
    "        #這裏建立一個BMI的實體\n",
    "        BMI = BMI(name=name, height=height, weight=weight)\n",
    "        print(f\"{BMI.getName()} 的 BMI 為{BMI.getBMI()}, 為{BMI.get_status_message()}\")\n",
    "    except ValueError:\n",
    "        print(\"格式錯誤，請重新輸入數據\")\n",
    "        continue\n",
    "\n",
    "    stuff = input(\"請問是否繼續輸入資料 ('q': 離開, 任意鍵: 繼續)? \")\n",
    "\n",
    "    if stuff == 'q':\n",
    "        break\n",
    "\n",
    "print(\"應用程式結束\")"
   ]
  },
  {
   "cell_type": "code",
   "execution_count": 5,
   "metadata": {},
   "outputs": [
    {
     "name": "stdout",
     "output_type": "stream",
     "text": [
      "grace 的 BMI 為20.31, 為正常範圍\n",
      "應用程式結束\n"
     ]
    }
   ],
   "source": [
    "class BMI():\n",
    "    def __init__(self, name:str, height:float, weight:float):\n",
    "        self.name = name\n",
    "        self.height = height\n",
    "        self.weight = weight\n",
    "\n",
    "    def getName(self)->str:\n",
    "        return self.name\n",
    "    \n",
    "    def getBMI(self)->float:\n",
    "        return round(self.weight / ((self.height * 0.01) ** 2), ndigits=2)\n",
    "    \n",
    "    def get_status_message(self)->str:\n",
    "        self.bmi = self.getBMI()\n",
    "        \n",
    "        if self.bmi < 18.5:\n",
    "            return \"體重過輕\"\n",
    "        elif self.bmi < 24:\n",
    "            return \"正常範圍\"\n",
    "        elif self.bmi < 27:\n",
    "            return \"過重\"\n",
    "        elif self.bmi < 30:\n",
    "            return \"輕度肥胖\"\n",
    "        elif self.bmi < 35:\n",
    "            return \"中度肥胖\"\n",
    "        else:\n",
    "            return \"重度肥胖\"\n",
    "\n",
    "while True:\n",
    "    try:\n",
    "        name = input(\"請輸入姓名: \")\n",
    "        height = float(input('請輸入身高（cm）: '))\n",
    "        weight = float(input('請輸入體重（kg）: '))\n",
    "        \n",
    "        #這裏建立一個BMI的實體\n",
    "        BMI = BMI(name=name, height=height, weight=weight)\n",
    "        print(f\"{BMI.getName()} 的 BMI 為{BMI.getBMI()}, 為{BMI.get_status_message()}\")\n",
    "    except ValueError:\n",
    "        print(\"格式錯誤，請重新輸入數據\")\n",
    "        continue\n",
    "\n",
    "    stuff = input(\"請問是否繼續輸入資料 ('q': 離開, 任意鍵: 繼續)? \")\n",
    "\n",
    "    if stuff == 'q':\n",
    "        break\n",
    "\n",
    "print(\"應用程式結束\")"
   ]
  }
 ],
 "metadata": {
  "kernelspec": {
   "display_name": "Python 3",
   "language": "python",
   "name": "python3"
  },
  "language_info": {
   "codemirror_mode": {
    "name": "ipython",
    "version": 3
   },
   "file_extension": ".py",
   "mimetype": "text/x-python",
   "name": "python",
   "nbconvert_exporter": "python",
   "pygments_lexer": "ipython3",
   "version": "3.11.9"
  }
 },
 "nbformat": 4,
 "nbformat_minor": 2
}
