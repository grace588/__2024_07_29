{
 "cells": [
  {
   "cell_type": "code",
   "execution_count": 4,
   "metadata": {},
   "outputs": [
    {
     "name": "stdout",
     "output_type": "stream",
     "text": [
      "2.5台斤=1.5公斤\n"
     ]
    }
   ],
   "source": [
    "kg_taiwan = float(input('請輸入台斤:'))\n",
    "kg = kg_taiwan * 0.6\n",
    "#print(str(kg_taiwan) + \"台斤=\" + str(kg) + \"公斤\")\n",
    "print(f'{kg_taiwan}台斤={kg}公斤') #字串插補"
   ]
  },
  {
   "cell_type": "code",
   "execution_count": 5,
   "metadata": {},
   "outputs": [
    {
     "name": "stdout",
     "output_type": "stream",
     "text": [
      "你的BMI是21.37\n"
     ]
    }
   ],
   "source": [
    "H = float(input(\"輸入身高(cm)\"))\n",
    "kg = float(input(\"輸入體重(kg)\"))\n",
    "BMI = kg / ((H*0.01)**2)\n",
    "print(f\"你的BMI是{round(BMI,2)}\")"
   ]
  },
  {
   "cell_type": "code",
   "execution_count": 6,
   "metadata": {},
   "outputs": [
    {
     "name": "stdout",
     "output_type": "stream",
     "text": [
      "你的BMI是22.06\n"
     ]
    }
   ],
   "source": [
    "H = float(input(\"輸入身高(cm)\"))\n",
    "kg = float(input(\"輸入體重(kg)\"))\n",
    "BMI = kg / ((H*0.01)**2)\n",
    "print(f\"你的BMI是{round(BMI,2)}\")"
   ]
  },
  {
   "cell_type": "code",
   "execution_count": 4,
   "metadata": {},
   "outputs": [
    {
     "ename": "SyntaxError",
     "evalue": "unterminated string literal (detected at line 15) (3854673554.py, line 15)",
     "output_type": "error",
     "traceback": [
      "\u001b[0;36m  Cell \u001b[0;32mIn[4], line 15\u001b[0;36m\u001b[0m\n\u001b[0;31m    print (str(M)+float'您好：’)\u001b[0m\n\u001b[0m                       ^\u001b[0m\n\u001b[0;31mSyntaxError\u001b[0m\u001b[0;31m:\u001b[0m unterminated string literal (detected at line 15)\n"
     ]
    }
   ],
   "source": [
    "#輸入:請輸入姓名:\n",
    "#輸入:請輸入身高(cm):\n",
    "#輸入:請輸體重(kg)\n",
    "\n",
    "#輸出:\n",
    "#輸出:xxx您好:\n",
    "#輸出:您的BMI值是:23.45\n",
    "\n",
    "name = input(\"請輸入姓名\")\n",
    "H= float(input(\"請輸入身高\"))\n",
    "kg =float(input(\"請輸入體重\"))\n",
    "BMI=kg/((H*0.01)**2)\n",
    "\n",
    "print(f'您的BMI是{round(BMI,2)}')\n",
    "print (str(M)+float'您好：’)\n",
    "\n",
    "\n"
   ]
  },
  {
   "cell_type": "code",
   "execution_count": 5,
   "metadata": {},
   "outputs": [
    {
     "name": "stdout",
     "output_type": "stream",
     "text": [
      "grace您好:\n",
      "您的BMI值是: 20.31\n"
     ]
    }
   ],
   "source": [
    "def calculate_bmi(height_cm, weight_kg):\n",
    "    height_m = height_cm / 100\n",
    "    bmi = weight_kg / (height_m ** 2)\n",
    "    return bmi\n",
    "\n",
    "# 輸入姓名\n",
    "name = input(\"請輸入姓名: \")\n",
    "\n",
    "# 輸入身高(cm)\n",
    "height_cm = float(input(\"請輸入身高(cm): \"))\n",
    "\n",
    "# 輸入體重(kg)\n",
    "weight_kg = float(input(\"請輸入體重(kg): \"))\n",
    "\n",
    "# 計算BMI\n",
    "bmi = calculate_bmi(height_cm, weight_kg)\n",
    "\n",
    "# 輸出結果\n",
    "print(f\"{name}您好:\")\n",
    "print(f\"您的BMI值是: {bmi:.2f}\")\n"
   ]
  },
  {
   "cell_type": "code",
   "execution_count": 9,
   "metadata": {},
   "outputs": [],
   "source": [
    "N=input('請輸入姓名:')\n",
    "\n",
    "try:\n",
    "    H =float (input('請輸入身高:'))\n",
    "    W =float (input('請輸入體重'))\n",
    "\n",
    "except Exception:\n",
    "    print(\"格式錯誤\")\n",
    "\n",
    "BMI =round((W/H*0.01)**2, ndigits=2) \n",
    "    \n",
    "if BMI<18.5:\n",
    "    print=\"體重過輕\"\n",
    "elif BMI <24:\n",
    "    print=\"體重正常\"\n",
    "elif BMI <27:\n",
    "    print=\"體重過重\"\n",
    "elif BMI<30:   \n",
    "    print=\"輕度肥胖\"\n",
    "elif BMI<35:\n",
    "    print=\"中度肥胖\"\n",
    "else:\n",
    "    print=\"重度肥胖\"\n",
    "\n",
    "    print(f\"{name}您好:\")\n",
    "    print(f\"BMI值是:{BMI}\")\n",
    "    print(f\"體重:{grade}\")"
   ]
  },
  {
   "cell_type": "code",
   "execution_count": 5,
   "metadata": {},
   "outputs": [
    {
     "name": "stdout",
     "output_type": "stream",
     "text": [
      "grace您好:\n",
      "BMI值是:20.31\n",
      "體重:適中\n"
     ]
    }
   ],
   "source": [
    "try:\n",
    "    name=str(input(\"請輸入姓名\"))\n",
    "    cm=int(input(\"請輸入身高(cm)\"))\n",
    "    kg=int(input(\"請輸入體重(kg)\"))\n",
    "    if (cm<=0 or kg<=0):\n",
    "        raise Exception\n",
    "except ValueError:\n",
    "    print(\"格式輸入錯誤\")\n",
    "except Exception:\n",
    "    print(\"身高或體重輸入錯誤\")\n",
    "else:\n",
    "    m=float(cm/100)\n",
    "    BMI=float(round(kg/m**2,2))\n",
    "    if BMI<18.5:\n",
    "        kg_check=\"過輕\"\n",
    "    elif BMI<24:\n",
    "        kg_check=\"適中\"\n",
    "    elif BMI<27:\n",
    "        kg_check=\"過重\"\n",
    "    elif BMI<30:\n",
    "        kg_check=\"輕度肥胖\"\n",
    "    elif BMI<35:\n",
    "        kg_check=\"中度肥胖\"\n",
    "    else:\n",
    "        kg_check=\"過度肥胖\"\n",
    "    print(f\"{name}您好:\")\n",
    "    print(f\"BMI值是:{BMI}\")\n",
    "    print(f\"體重:{kg_check}\")"
   ]
  }
 ],
 "metadata": {
  "kernelspec": {
   "display_name": "Python 3",
   "language": "python",
   "name": "python3"
  },
  "language_info": {
   "codemirror_mode": {
    "name": "ipython",
    "version": 3
   },
   "file_extension": ".py",
   "mimetype": "text/x-python",
   "name": "python",
   "nbconvert_exporter": "python",
   "pygments_lexer": "ipython3",
   "version": "3.11.9"
  }
 },
 "nbformat": 4,
 "nbformat_minor": 2
}
