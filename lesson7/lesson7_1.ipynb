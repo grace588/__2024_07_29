{
 "cells": [
  {
   "cell_type": "code",
   "execution_count": 1,
   "metadata": {},
   "outputs": [
    {
     "data": {
      "text/plain": [
       "37"
      ]
     },
     "execution_count": 1,
     "metadata": {},
     "output_type": "execute_result"
    }
   ],
   "source": [
    "import random\n",
    "random.randint(1, 100)"
   ]
  },
  {
   "cell_type": "code",
   "execution_count": 10,
   "metadata": {},
   "outputs": [
    {
     "name": "stdout",
     "output_type": "stream",
     "text": [
      "==========猜數字遊戲============\n",
      "\n"
     ]
    },
    {
     "ename": "NameError",
     "evalue": "name 'Ture' is not defined",
     "output_type": "error",
     "traceback": [
      "\u001b[0;31m---------------------------------------------------------------------------\u001b[0m",
      "\u001b[0;31mNameError\u001b[0m                                 Traceback (most recent call last)",
      "Cell \u001b[0;32mIn[10], line 7\u001b[0m\n\u001b[1;32m      5\u001b[0m target \u001b[38;5;241m=\u001b[39m random\u001b[38;5;241m.\u001b[39mrandint(\u001b[38;5;241m1\u001b[39m,\u001b[38;5;241m100\u001b[39m)\n\u001b[1;32m      6\u001b[0m \u001b[38;5;28mprint\u001b[39m(\u001b[38;5;124m'\u001b[39m\u001b[38;5;124m==========猜數字遊戲============\u001b[39m\u001b[38;5;130;01m\\n\u001b[39;00m\u001b[38;5;124m'\u001b[39m)\n\u001b[0;32m----> 7\u001b[0m \u001b[38;5;28;01mwhile\u001b[39;00m \u001b[43mTure\u001b[49m:\n\u001b[1;32m      8\u001b[0m     keyin \u001b[38;5;241m=\u001b[39m \u001b[38;5;28mint\u001b[39m\n\u001b[1;32m      9\u001b[0m     \u001b[38;5;28;01mbreak\u001b[39;00m\n",
      "\u001b[0;31mNameError\u001b[0m: name 'Ture' is not defined"
     ]
    }
   ],
   "source": [
    "#猜數字遊戲\n",
    "import random\n",
    "min = 1\n",
    "max = 100\n",
    "target = random.randint(1,100)\n",
    "print('==========猜數字遊戲============\\n')\n",
    "while Ture:\n",
    "    keyin = int\n",
    "    break\n",
    "print(\"應用程式結束\")"
   ]
  },
  {
   "cell_type": "code",
   "execution_count": 14,
   "metadata": {},
   "outputs": [
    {
     "name": "stdout",
     "output_type": "stream",
     "text": [
      "請輸入整數,min=1,max=100101\n"
     ]
    }
   ],
   "source": [
    "import pyinputplus as pyip\n",
    "num = pyip.inputInt(\"請輸入整數,min=1,max=100\")\n",
    "print(num)"
   ]
  },
  {
   "cell_type": "code",
   "execution_count": 15,
   "metadata": {},
   "outputs": [
    {
     "name": "stdout",
     "output_type": "stream",
     "text": [
      "請輸入整數:Number must be at maximum 100.\n",
      "請輸入整數:99\n"
     ]
    }
   ],
   "source": [
    "import pyinputplus as pyip\n",
    "num = pyip.inputInt('請輸入整數:',min=1,max=100)\n",
    "print(num)"
   ]
  },
  {
   "cell_type": "code",
   "execution_count": 7,
   "metadata": {},
   "outputs": [
    {
     "name": "stdout",
     "output_type": "stream",
     "text": [
      "=============猜數字遊戲=================\n",
      "\n",
      "應用程式結束\n"
     ]
    }
   ],
   "source": [
    "# 猜數字遊戲\n",
    "import random\n",
    "min = 1\n",
    "max = 100\n",
    "target = random.randint(1, 100)\n",
    "print(\"=============猜數字遊戲=================\\n\")\n",
    "while True:\n",
    "    break\n",
    "print(\"應用程式結束\")"
   ]
  },
  {
   "cell_type": "code",
   "execution_count": 17,
   "metadata": {},
   "outputs": [
    {
     "name": "stdout",
     "output_type": "stream",
     "text": [
      "=============猜數字遊戲=================\n",
      "\n",
      "猜數字範圍1~100:再大一點\n",
      "您已經猜了1次\n",
      "猜數字範圍51~100:再大一點\n",
      "您已經猜了2次\n",
      "猜數字範圍61~100:再大一點\n",
      "您已經猜了3次\n",
      "猜數字範圍71~100:再大一點\n",
      "您已經猜了4次\n",
      "猜數字範圍81~100:再小一點\n",
      "您已經猜了5次\n",
      "猜數字範圍81~89:再小一點\n",
      "您已經猜了6次\n",
      "猜數字範圍81~85:再小一點\n",
      "您已經猜了7次\n",
      "猜數字範圍81~83:再小一點\n",
      "您已經猜了8次\n",
      "猜數字範圍81~81:賓果!猜對了, 答案是81\n",
      "您猜了9次\n",
      "應用程式結束\n"
     ]
    }
   ],
   "source": [
    "# 猜數字遊戲\n",
    "import random\n",
    "import pyinputplus as pyip\n",
    "min = 1\n",
    "max = 100\n",
    "count = 0\n",
    "target = random.randint(1, 100)\n",
    "print(\"=============猜數字遊戲=================\\n\")\n",
    "while True:\n",
    "    count += 1\n",
    "    keyin = pyip.inputInt(f\"猜數字範圍{min}~{max}:\",min=min,max=max)\n",
    "    if keyin == target:\n",
    "        print(f\"賓果!猜對了, 答案是{keyin}\")\n",
    "        print(f\"您猜了{count}次\")\n",
    "        break\n",
    "    elif keyin > target:\n",
    "        print(\"再小一點\")\n",
    "        max = keyin-1\n",
    "    elif keyin < target:\n",
    "        print(\"再大一點\")\n",
    "        min = keyin+1\n",
    "    print(f\"您已經猜了{count}次\")\n",
    "\n",
    "print(\"應用程式結束\")"
   ]
  }
 ],
 "metadata": {
  "kernelspec": {
   "display_name": "Python 3",
   "language": "python",
   "name": "python3"
  },
  "language_info": {
   "codemirror_mode": {
    "name": "ipython",
    "version": 3
   },
   "file_extension": ".py",
   "mimetype": "text/x-python",
   "name": "python",
   "nbconvert_exporter": "python",
   "pygments_lexer": "ipython3",
   "version": "3.11.9"
  }
 },
 "nbformat": 4,
 "nbformat_minor": 2
}
